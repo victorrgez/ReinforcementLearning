{
 "cells": [
  {
   "cell_type": "markdown",
   "metadata": {},
   "source": [
    "## Notebook for testing the pretrained weights"
   ]
  },
  {
   "cell_type": "code",
   "execution_count": 2,
   "metadata": {},
   "outputs": [],
   "source": [
    "# Creates the model and loads the desired weights (they need to be in the same directory than the notebook)\n",
    "\n",
    "import random\n",
    "import numpy as np\n",
    "from tensorflow import keras\n",
    "import gym\n",
    "env = gym.make('CartPole-v1')\n",
    "model = keras.Sequential()\n",
    "model.add (keras.layers.Dense(units = 32, input_shape=(4,), activation = \"relu\"))\n",
    "model.add (keras.layers.Dense(units = 32, activation = \"relu\"))\n",
    "model.add (keras.layers.Dense(units = 8, activation = \"relu\"))\n",
    "model.add (keras.layers.Dense(units = 8, activation = \"relu\"))\n",
    "model.add (keras.layers.Dense(units = 2))\n",
    "model.compile(optimizer=keras.optimizers.Adam(lr=0.001),loss =\"mse\")\n",
    "#print (model.summary())\n",
    "model.load_weights(\"WeightsTactic1.h5\")\n",
    "#model.load_weights(\"WeightsTactic2.h5\")"
   ]
  },
  {
   "cell_type": "code",
   "execution_count": null,
   "metadata": {},
   "outputs": [],
   "source": [
    "# Testing loop\n",
    "\n",
    "numberOfTestingEpisodes = 5\n",
    "\n",
    "for episode in range (numberOfTestingEpisodes):\n",
    "    done = False\n",
    "    prevObs = env.reset()\n",
    "    for step in range (600):\n",
    "        if done:\n",
    "            break\n",
    "        env.render()\n",
    "        \n",
    "       \n",
    "\n",
    "        target = model.predict(np.expand_dims(prevObs, axis = 0))[0]\n",
    "        action = np.argmax(target)\n",
    "        obs, reward, done, _ = env.step (action)\n",
    "        prevObs = obs\n",
    "env.close()"
   ]
  },
  {
   "cell_type": "code",
   "execution_count": null,
   "metadata": {},
   "outputs": [],
   "source": []
  }
 ],
 "metadata": {
  "kernelspec": {
   "display_name": "Python 3",
   "language": "python",
   "name": "python3"
  },
  "language_info": {
   "codemirror_mode": {
    "name": "ipython",
    "version": 3
   },
   "file_extension": ".py",
   "mimetype": "text/x-python",
   "name": "python",
   "nbconvert_exporter": "python",
   "pygments_lexer": "ipython3",
   "version": "3.7.6"
  }
 },
 "nbformat": 4,
 "nbformat_minor": 4
}
