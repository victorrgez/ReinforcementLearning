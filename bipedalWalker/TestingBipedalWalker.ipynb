{
 "cells": [
  {
   "cell_type": "markdown",
   "metadata": {},
   "source": [
    "# Script for checking trained weights for Bipedal Walker\n",
    "#### (Only activate env.render() if computing in local machine, doesn't work on google colab)"
   ]
  },
  {
   "cell_type": "code",
   "execution_count": 1,
   "metadata": {},
   "outputs": [],
   "source": [
    "import numpy as np\n",
    "from tensorflow import keras\n",
    "import matplotlib.pyplot as plt\n",
    "import gym"
   ]
  },
  {
   "cell_type": "code",
   "execution_count": 2,
   "metadata": {},
   "outputs": [],
   "source": [
    "stateInput = keras.Input(shape = (24))\n",
    "\n",
    "dense1 = keras.layers.Dense(units = 128, activation = \"relu\") (stateInput)\n",
    "dense2 = keras.layers.Dense(units = 128, activation = \"relu\") (dense1)\n",
    "dense3 = keras.layers.Dense(units = 128, activation = \"relu\") (dense2)\n",
    "\n",
    "outputLayer = keras.layers.Dense (units = 4, activation = \"tanh\") (dense3)\n",
    "\n",
    "model = keras.Model (inputs = stateInput, outputs = outputLayer)\n",
    "model.compile(optimizer=keras.optimizers.Adam(lr=0.001),loss =\"mse\")\n",
    "model.load_weights(\"Bipedal2.h5\")"
   ]
  },
  {
   "cell_type": "code",
   "execution_count": 3,
   "metadata": {},
   "outputs": [],
   "source": [
    "def getBipedalWalkerFitness ():\n",
    "\n",
    "    env = gym.make('BipedalWalker-v3')\n",
    "\n",
    "    done = False\n",
    "    bipedalWalkerReward = 0\n",
    "    prevObs = np.expand_dims(env.reset(),axis=0)\n",
    "\n",
    "    for step in range(2002):\n",
    "        if (done):\n",
    "            bipedalWalkerReward += (env.hull.position[0]-4.5)*10\n",
    "            break  \n",
    "        #env.render()\n",
    "        action = model.predict(prevObs)[0]\n",
    "        \n",
    "        state, reward, done,_ = env.step(action)\n",
    "        state = np.expand_dims(state,axis=0)\n",
    "        \n",
    "        if (np.abs(np.sum(state-prevObs)) < 5E-7 ):\n",
    "            reward -= 70\n",
    "            done    = True\n",
    "      \n",
    "        prevObs = state\n",
    "       \n",
    "        bipedalWalkerReward += reward\n",
    "    \n",
    "    env.close()\n",
    "\n",
    "    print(bipedalWalkerReward)"
   ]
  },
  {
   "cell_type": "code",
   "execution_count": 4,
   "metadata": {},
   "outputs": [],
   "source": [
    "def getOfficialBipedalWalkerFitness ():\n",
    "    \n",
    "\n",
    "    env = gym.make('BipedalWalker-v3')\n",
    "\n",
    "    done = False\n",
    "    bipedalWalkerReward = 0\n",
    "    prevObs = np.expand_dims(env.reset(),axis=0)\n",
    "\n",
    "    for step in range(2002):\n",
    "        if (done):\n",
    "            #bipedalWalkerReward += (env.hull.position[0]-4.5)*10\n",
    "            break  \n",
    "        env.render()\n",
    "        action = model.predict(prevObs)[0]\n",
    "        \n",
    "        state, reward, done,_ = env.step(action)\n",
    "        state = np.expand_dims(state,axis=0)\n",
    "        if (np.abs(np.sum(state-prevObs)) < 5E-7 ):\n",
    "            #reward -= 70\n",
    "            done    = True\n",
    "        prevObs = state\n",
    "       \n",
    "        bipedalWalkerReward += reward\n",
    "    env.close()\n",
    "    print (bipedalWalkerReward)"
   ]
  },
  {
   "cell_type": "code",
   "execution_count": 5,
   "metadata": {
    "scrolled": true
   },
   "outputs": [
    {
     "name": "stderr",
     "output_type": "stream",
     "text": [
      "C:\\Users\\Yoo\\anaconda3\\lib\\site-packages\\gym\\logger.py:30: UserWarning: \u001b[33mWARN: Box bound precision lowered by casting to float32\u001b[0m\n",
      "  warnings.warn(colorize('%s: %s'%('WARN', msg % args), 'yellow'))\n"
     ]
    },
    {
     "name": "stdout",
     "output_type": "stream",
     "text": [
      "262.36624589938623\n",
      "305.1240566441587\n"
     ]
    }
   ],
   "source": [
    "numberOfEpisodes = 2\n",
    "for i in range (numberOfEpisodes): # Chose which Fitness function to use:\n",
    "    getBipedalWalkerFitness()\n",
    "    #getOfficialBipedalWalkerFitness()"
   ]
  },
  {
   "cell_type": "code",
   "execution_count": null,
   "metadata": {},
   "outputs": [],
   "source": []
  }
 ],
 "metadata": {
  "kernelspec": {
   "display_name": "Python 3",
   "language": "python",
   "name": "python3"
  },
  "language_info": {
   "codemirror_mode": {
    "name": "ipython",
    "version": 3
   },
   "file_extension": ".py",
   "mimetype": "text/x-python",
   "name": "python",
   "nbconvert_exporter": "python",
   "pygments_lexer": "ipython3",
   "version": "3.7.6"
  }
 },
 "nbformat": 4,
 "nbformat_minor": 4
}
