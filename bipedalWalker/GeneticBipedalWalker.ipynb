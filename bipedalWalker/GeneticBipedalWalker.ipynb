{
 "cells": [
  {
   "cell_type": "markdown",
   "metadata": {},
   "source": [
    "# Bipedal Walker with a Genetic Algorithm\n",
    "## The reward function has been changed so it promotes individuals who run farther instead of agents which fall really quickly (don't get penalised by applying force) or that stay static on the floor in order not to fall and receive -100 points"
   ]
  },
  {
   "cell_type": "code",
   "execution_count": 1,
   "metadata": {
    "colab": {},
    "colab_type": "code",
    "id": "GaCW4Zqerspc"
   },
   "outputs": [],
   "source": [
    "# Imports the libraries:\n",
    "import numpy as np\n",
    "import matplotlib.pyplot as plt\n",
    "import matplotlib as mpl\n",
    "import tensorflow as tf\n",
    "from tensorflow import keras\n",
    "import random\n",
    "import gym"
   ]
  },
  {
   "cell_type": "code",
   "execution_count": 2,
   "metadata": {
    "colab": {},
    "colab_type": "code",
    "id": "NvD7jmvOrVc3"
   },
   "outputs": [],
   "source": [
    "def createRandomIndividuals (numberOfIndividuals, numberOfParameters, low=-1, high=1):\n",
    "    parameters = np.random.uniform (low=low, high = high, size = (numberOfParameters, numberOfIndividuals))\n",
    "    return parameters"
   ]
  },
  {
   "cell_type": "code",
   "execution_count": 3,
   "metadata": {
    "colab": {},
    "colab_type": "code",
    "id": "kULibDr5r9w7"
   },
   "outputs": [],
   "source": [
    "def elitismSelection (parameters, numberToBeChosen, shapes, paramsPerShape):\n",
    "    scores  = [getBipedalWalkerFitness(parameters[:,i], shapes, paramsPerShape) for i in range(parameters.shape[1])]\n",
    "    indices = np.argsort (scores)[::-1] # Really important for descending order!\n",
    "    parameters      = parameters[:,indices[:numberToBeChosen]]\n",
    "    print (\"Best individual reward: %d\" % scores[indices[0]])\n",
    "    return parameters"
   ]
  },
  {
   "cell_type": "code",
   "execution_count": 4,
   "metadata": {},
   "outputs": [],
   "source": [
    "def createPairs (numberOfSurvivors, numberOfPairs, replace=True): # It returns a list of indices that can be splitted every 2 for forming pairs\n",
    "    pairs = []\n",
    "    chosenIndices = np.random.choice (range(numberOfSurvivors), size=(numberOfPairs*2), replace = replace)\n",
    "    return chosenIndices"
   ]
  },
  {
   "cell_type": "code",
   "execution_count": 5,
   "metadata": {
    "colab": {},
    "colab_type": "code",
    "id": "c36el2OS3FdK"
   },
   "outputs": [],
   "source": [
    "def SBX (parameters1, parameters2, eta=10): # Simulated Binary Crossover. The bigger is eta, the more close the children are to parents\n",
    "\n",
    "    r             = np.random.random(size=len(parameters1))\n",
    "    gamma         = np.empty(len(parameters1))\n",
    "    gamma[r<=0.5] = (2*r[r<=0.5])**(1/(eta+1))\n",
    "    gamma[r>0.5 ] = (1/(2*(1-r[r>0.5])))**(1/(eta+1))\n",
    "    child1        = 0.5 * ((1+gamma)*parameters1 + (1-gamma)*parameters2)\n",
    "    child2        = 0.5 * ((1-gamma)*parameters1 + (1+gamma)*parameters2)\n",
    "    return child1, child2"
   ]
  },
  {
   "cell_type": "code",
   "execution_count": 6,
   "metadata": {},
   "outputs": [],
   "source": [
    "def SPBX (parameters1, parameters2): # Single Point Binary Crossover.\n",
    "    crossoverPoint = np.random.randint(1, len(parameters1)) # We want at least length 1 at either side of the crossover\n",
    "    child1         = np.append(parameters1[:crossoverPoint], parameters2[crossoverPoint:])\n",
    "    child2         = np.append(parameters2[:crossoverPoint], parameters1[crossoverPoint:])\n",
    "    return child1, child2"
   ]
  },
  {
   "cell_type": "code",
   "execution_count": 7,
   "metadata": {
    "colab": {},
    "colab_type": "code",
    "id": "snagO8f4qORR"
   },
   "outputs": [],
   "source": [
    "def applyGaussianMutation (parameters, mutation_rate=0.05, mu=0, sigma=1): # Pass it a numpy array of floats! (mu and sigma can be arrays too)\n",
    "    mutationOrNot              = (np.random.random (size=len(parameters))) < mutation_rate\n",
    "    mutationValues             = np.random.normal(loc=mu, scale = sigma, size = len(parameters))\n",
    "    parameters[mutationOrNot] += mutationValues[mutationOrNot]\n",
    "    return parameters"
   ]
  },
  {
   "cell_type": "code",
   "execution_count": 8,
   "metadata": {},
   "outputs": [],
   "source": [
    "stateInput = keras.Input(shape = (24))\n",
    "\n",
    "dense1 = keras.layers.Dense(units = 128, activation = \"relu\") (stateInput)\n",
    "dense2 = keras.layers.Dense(units = 128, activation = \"relu\") (dense1)\n",
    "dense3 = keras.layers.Dense(units = 128, activation = \"relu\") (dense2)\n",
    "\n",
    "outputLayer = keras.layers.Dense (units = 4, activation = \"tanh\") (dense3)\n",
    "\n",
    "model = keras.Model (inputs = stateInput, outputs = outputLayer)\n",
    "model.compile(optimizer=keras.optimizers.Adam(lr=0.001),loss =\"mse\")"
   ]
  },
  {
   "cell_type": "code",
   "execution_count": 9,
   "metadata": {},
   "outputs": [],
   "source": [
    "def getLengthOfWeights (model):\n",
    "    setsOfWeights = np.array(model.get_weights())\n",
    "    totalWeights = 0\n",
    "    shapes = []\n",
    "    paramsPerShape = []\n",
    "    for i in setsOfWeights:\n",
    "        shapes.append(i.shape)\n",
    "        i = np.reshape (i, (-1))\n",
    "        totalWeights += i.shape[0]\n",
    "        paramsPerShape.append(i.shape[0])\n",
    "    return totalWeights, shapes, paramsPerShape"
   ]
  },
  {
   "cell_type": "code",
   "execution_count": 10,
   "metadata": {},
   "outputs": [],
   "source": [
    "def setModelWeights(parameters, shapes, paramsPerShape):\n",
    "    weights = []\n",
    "    paramsUsedSoFar = 0\n",
    "    for index, shape in enumerate (shapes):\n",
    "        paramsInThisLayer = paramsPerShape[index]\n",
    "        params = np.reshape (parameters[paramsUsedSoFar:paramsUsedSoFar+paramsInThisLayer], shape)\n",
    "        weights.append(params)\n",
    "        paramsUsedSoFar += paramsInThisLayer\n",
    "    model.set_weights(weights)"
   ]
  },
  {
   "cell_type": "code",
   "execution_count": 11,
   "metadata": {},
   "outputs": [],
   "source": [
    "def getBipedalWalkerFitness (parameters, shapes, paramsPerShape):\n",
    "    # The reward function has been changed so it promotes individuals who run farther instead of agents which fall really quickly (don't get penalised by applying force) or that stay static on the floor in order not to fall and receive -100 points\n",
    "    setModelWeights (parameters, shapes, paramsPerShape)\n",
    "\n",
    "    env = gym.make('BipedalWalker-v3')\n",
    "\n",
    "    done = False\n",
    "    bipedalWalkerReward = 0\n",
    "    prevObs = np.expand_dims(env.reset(),axis=0)\n",
    "\n",
    "    for step in range(2002):\n",
    "        if (done):\n",
    "            bipedalWalkerReward += (env.hull.position[0]-4.5)*10\n",
    "            break  \n",
    "        #env.render()\n",
    "        action = model.predict(prevObs)[0]\n",
    "        \n",
    "        state, reward, done,_ = env.step(action)\n",
    "        state = np.expand_dims(state,axis=0)\n",
    "        \n",
    "        if (np.abs(np.sum(state-prevObs)) < 5E-7 ):\n",
    "            reward -= 70\n",
    "            done    = True\n",
    "      \n",
    "        prevObs = state\n",
    "       \n",
    "        bipedalWalkerReward += reward\n",
    "    \n",
    "    env.close()\n",
    "\n",
    "    return bipedalWalkerReward"
   ]
  },
  {
   "cell_type": "code",
   "execution_count": null,
   "metadata": {
    "colab": {},
    "colab_type": "code",
    "id": "nQ6aEU3iNeQu"
   },
   "outputs": [
    {
     "name": "stdout",
     "output_type": "stream",
     "text": [
      "Generation 1 starting\n"
     ]
    },
    {
     "name": "stderr",
     "output_type": "stream",
     "text": [
      "C:\\Users\\Yoo\\anaconda3\\lib\\site-packages\\gym\\logger.py:30: UserWarning: \u001b[33mWARN: Box bound precision lowered by casting to float32\u001b[0m\n",
      "  warnings.warn(colorize('%s: %s'%('WARN', msg % args), 'yellow'))\n"
     ]
    },
    {
     "name": "stdout",
     "output_type": "stream",
     "text": [
      "Best individual reward: -65\n",
      "Generation 2 starting\n",
      "Best individual reward: -34\n",
      "Generation 3 starting\n",
      "Best individual reward: 12\n",
      "Generation 4 starting\n",
      "Best individual reward: 102\n",
      "Generation 5 starting\n",
      "Best individual reward: 81\n",
      "Generation 6 starting\n",
      "Best individual reward: 49\n",
      "Generation 7 starting\n",
      "Best individual reward: 97\n",
      "Generation 8 starting\n",
      "Best individual reward: 120\n",
      "Generation 9 starting\n",
      "Best individual reward: 106\n",
      "Generation 10 starting\n",
      "Best individual reward: 231\n",
      "Generation 11 starting\n",
      "Best individual reward: 210\n",
      "Generation 12 starting\n",
      "Best individual reward: 233\n",
      "Generation 13 starting\n",
      "Best individual reward: 213\n",
      "Generation 14 starting\n",
      "Best individual reward: 265\n",
      "Generation 15 starting\n",
      "Best individual reward: 258\n",
      "Generation 16 starting\n",
      "Best individual reward: 244\n",
      "Generation 17 starting\n",
      "Best individual reward: 279\n",
      "Generation 18 starting\n",
      "Best individual reward: 273\n",
      "Generation 19 starting\n",
      "Best individual reward: 220\n",
      "Generation 20 starting\n",
      "Best individual reward: 383\n",
      "Generation 21 starting\n",
      "Best individual reward: 276\n",
      "Generation 22 starting\n",
      "Best individual reward: 260\n",
      "Generation 23 starting\n",
      "Best individual reward: 224\n",
      "Generation 24 starting\n",
      "Best individual reward: 259\n",
      "Generation 25 starting\n",
      "Best individual reward: 280\n",
      "Generation 26 starting\n",
      "Best individual reward: 335\n",
      "Generation 27 starting\n",
      "Best individual reward: 325\n",
      "Generation 28 starting\n"
     ]
    }
   ],
   "source": [
    "numberOfGenerations = 100\n",
    "indivPerGen         = 100\n",
    "fittestNumber       = 50\n",
    "\n",
    "childrenFromParents = 90\n",
    "parentsThatRemain   = 5\n",
    "numberNewIndividuals= 5\n",
    "\n",
    "\n",
    "mu = 0\n",
    "sigma = 0.7\n",
    "\n",
    "\n",
    "totalWeights, shapes, paramsPerShape = getLengthOfWeights (model)\n",
    "\n",
    "primitiveGeneration = createRandomIndividuals (numberOfIndividuals=indivPerGen, numberOfParameters = totalWeights, low=-1, high=1)\n",
    "# Shape (NumberOfWeights, indivPerGen).\n",
    "\n",
    "pastGeneration   = np.copy(primitiveGeneration)\n",
    "\n",
    "for gen in range (numberOfGenerations):\n",
    "    print (\"Generation %d starting\" % (gen+1))\n",
    "    # Choose one selection type:\n",
    "    mutation_rate = 0.05/np.cbrt(gen+1)\n",
    "    survivors    = elitismSelection (pastGeneration, numberToBeChosen=fittestNumber, shapes=shapes, paramsPerShape = paramsPerShape)\n",
    "    # Shape (NumberOfWeights, fittestNumber)\n",
    "    \n",
    "    pairs        = createPairs (numberOfSurvivors=fittestNumber, numberOfPairs = childrenFromParents//2, replace=True)\n",
    "    # Shape (childrenFromParents,). Contains indices for survivors Array ready to be splitted every two.\n",
    "\n",
    "    newChildren  = []\n",
    "\n",
    "    for i in range (childrenFromParents//2):\n",
    "\n",
    "        parents  = survivors[:,pairs[2*i:2*(i+1)]]\n",
    "        # Shape (NumberOfWeights, numberOfParents)\n",
    "        \n",
    "        if (np.random.random()<0.8):\n",
    "            child1, child2 = SBX (parents[:,0], parents[:,1]) \n",
    "        else:\n",
    "            child1, child2 = SPBX (parents[:,0], parents[:,1])\n",
    "            \n",
    "        # Choose one mutation type:\n",
    "        child1, child2 = applyGaussianMutation (child1, mutation_rate=mutation_rate,mu=mu, sigma=sigma), applyGaussianMutation (child2,mutation_rate=mutation_rate, mu=mu, sigma=sigma)\n",
    "\n",
    "\n",
    "        newChildren.append(child1)\n",
    "        newChildren.append(child2)\n",
    "    \n",
    "    newChildren    = np.swapaxes(newChildren, axis1=1, axis2=0)\n",
    "    # Shape (NumberOfWeights, ChildrenFromParents).\n",
    "\n",
    "    newIndividuals = createRandomIndividuals (numberNewIndividuals, numberOfParameters = totalWeights, low=-1, high=1)\n",
    "    # Shape (NumberOfWeights, numberNewIndividuals)\n",
    "    \n",
    "    newGeneration  = np.concatenate ((survivors[:,:parentsThatRemain],newChildren, newIndividuals), axis = 1)\n",
    "    # Shape (NumberOfWeights, indivPerGen)\n",
    "    \n",
    "    pastGeneration = np.copy(newGeneration)\n",
    "    if ((gen+1) %5 == 0):\n",
    "        np.save(\"bipedalGeneration\"+str(gen)+\".npy\",newGeneration)\n",
    "getBipedalWalkerFitness(survivors[:,0], shapes, paramsPerShape)"
   ]
  },
  {
   "cell_type": "markdown",
   "metadata": {},
   "source": [
    "## The genetic algorithm was manually stopped here because of its expensive computational cost but ideally it would be run for many more generations.\n",
    "### Furthermore, once we have an agent that can move through the environment, we could change back the fitness function to the official one and the agent should not go back to those local optima in which it remains static on the floor."
   ]
  }
 ],
 "metadata": {
  "colab": {
   "collapsed_sections": [],
   "name": "GeneticFunction.ipynb",
   "provenance": []
  },
  "kernelspec": {
   "display_name": "Python 3",
   "language": "python",
   "name": "python3"
  },
  "language_info": {
   "codemirror_mode": {
    "name": "ipython",
    "version": 3
   },
   "file_extension": ".py",
   "mimetype": "text/x-python",
   "name": "python",
   "nbconvert_exporter": "python",
   "pygments_lexer": "ipython3",
   "version": "3.7.6"
  }
 },
 "nbformat": 4,
 "nbformat_minor": 1
}
