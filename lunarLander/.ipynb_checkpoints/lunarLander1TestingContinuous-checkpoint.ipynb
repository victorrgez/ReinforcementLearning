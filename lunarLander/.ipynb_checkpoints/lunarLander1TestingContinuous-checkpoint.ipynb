{
 "cells": [
  {
   "cell_type": "markdown",
   "metadata": {},
   "source": [
    "## Notebook for testing the pretrained weights for Lunar Lander Continuous Environment"
   ]
  },
  {
   "cell_type": "code",
   "execution_count": 2,
   "metadata": {},
   "outputs": [],
   "source": [
    "# Creates the model and loads the desired weights (they need to be in the same directory than the notebook)\n",
    "\n",
    "import random\n",
    "import numpy as np\n",
    "from tensorflow import keras\n",
    "import gym\n",
    "env = gym.make('LunarLanderContinuous-v2')\n",
    "\n",
    "stateInput        = keras.Input(shape = (8,))    \n",
    "\n",
    "actorDense1       = keras.layers.Dense(units = 128, activation = \"relu\")   (stateInput)\n",
    "actorDense2       = keras.layers.Dense(units = 128, activation = \"relu\")   (actorDense1)\n",
    "actorDense3       = keras.layers.Dense(units = 32, activation = \"relu\")    (actorDense2)\n",
    "actorOutput       = keras.layers.Dense(units = 2, activation = \"tanh\")     (actorDense3)\n",
    "\n",
    "actorModel        = keras.Model (inputs = stateInput, outputs = actorOutput)\n",
    "actorModel.compile(optimizer=keras.optimizers.Adam(lr=0.001), loss =\"mse\")\n",
    "#print (model.summary())\n",
    "actorModel.load_weights(\"ACWeights.h5\")\n"
   ]
  },
  {
   "cell_type": "code",
   "execution_count": 3,
   "metadata": {},
   "outputs": [
    {
     "name": "stdout",
     "output_type": "stream",
     "text": [
      "0  Episode Reward:  -49.29303320046182\n",
      "1  Episode Reward:  -63.487411184444454\n",
      "2  Episode Reward:  -63.78251197302749\n",
      "3  Episode Reward:  -81.21160219097443\n",
      "4  Episode Reward:  -81.5817612010174\n"
     ]
    }
   ],
   "source": [
    "# Testing loop (Google colab cannot render the environment, only computations can be done. Render in Local Machine!)\n",
    "\n",
    "numberOfTestingEpisodes = 5\n",
    "testingRewards = []\n",
    "for episode in range (numberOfTestingEpisodes):\n",
    "    done = False\n",
    "    episodeReward = 0\n",
    "    prevObs = env.reset()\n",
    "    for step in range (1010):\n",
    "       \n",
    "        if done:\n",
    "            break\n",
    "        env.render()\n",
    "        \n",
    "\n",
    "        actions = actorModel.predict(np.expand_dims(prevObs, axis = 0))[0] # Shape (2,)\n",
    "        \n",
    "        \n",
    "        obs, reward, done, info = env.step (actions)\n",
    "        \n",
    "        prevObs = obs\n",
    "        episodeReward += reward\n",
    "      \n",
    "    print (episode, \" Episode Reward: \", episodeReward)\n",
    "    testingRewards.append(episodeReward)\n",
    "env.close()"
   ]
  },
  {
   "cell_type": "code",
   "execution_count": 4,
   "metadata": {},
   "outputs": [
    {
     "data": {
      "image/png": "[encoded data removed]",
      "text/plain": [
       "<Figure size 432x288 with 1 Axes>"
      ]
     },
     "metadata": {
      "needs_background": "light"
     },
     "output_type": "display_data"
    }
   ],
   "source": [
    "import matplotlib.pyplot as plt\n",
    "plt.plot (list(range(len(testingRewards))), testingRewards)\n",
    "plt.plot (list(range(len(testingRewards))), [np.average(testingRewards)]*len(testingRewards))\n",
    "plt.title(\"Rewards obtained during Testing\")\n",
    "plt.xlabel(\"Episode number\")\n",
    "plt.ylabel(\"Reward obtained\")\n",
    "plt.legend([\"Rewards\", \"Average: %.2f\" % np.average(testingRewards)])\n",
    "plt.show()"
   ]
  },
  {
   "cell_type": "code",
   "execution_count": null,
   "metadata": {},
   "outputs": [],
   "source": []
  }
 ],
 "metadata": {
  "kernelspec": {
   "display_name": "Python 3",
   "language": "python",
   "name": "python3"
  },
  "language_info": {
   "codemirror_mode": {
    "name": "ipython",
    "version": 3
   },
   "file_extension": ".py",
   "mimetype": "text/x-python",
   "name": "python",
   "nbconvert_exporter": "python",
   "pygments_lexer": "ipython3",
   "version": "3.7.6"
  }
 },
 "nbformat": 4,
 "nbformat_minor": 4
}
