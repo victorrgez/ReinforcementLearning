{
 "cells": [
  {
   "cell_type": "markdown",
   "metadata": {
    "colab_type": "text",
    "id": "iXIwIYeZqhRK"
   },
   "source": [
    "# Optimising Beale function with has a minimum on f(3, 0.5) = 0 for -4.5<x,y<4.5\n",
    "## These functions should be passed a numpy array of floats to ensure no exceptions are raised!"
   ]
  },
  {
   "cell_type": "code",
   "execution_count": 1,
   "metadata": {
    "colab": {},
    "colab_type": "code",
    "id": "GaCW4Zqerspc"
   },
   "outputs": [],
   "source": [
    "import numpy as np"
   ]
  },
  {
   "cell_type": "code",
   "execution_count": 2,
   "metadata": {
    "colab": {},
    "colab_type": "code",
    "id": "lkPYWZ7Hp6DI"
   },
   "outputs": [],
   "source": [
    "def bealeFunction (x, y): # Can do broadcasting if you pass it numpy arrays! All individuals can be evaluated at once\n",
    "    term1 = (1.5-x+x*y)**2\n",
    "    term2 = (2.25-x+x*y**2)**2\n",
    "    term3 = (2.625-x+x*y**3)**2\n",
    "    return term1+term2+term3"
   ]
  },
  {
   "cell_type": "code",
   "execution_count": 3,
   "metadata": {
    "colab": {},
    "colab_type": "code",
    "id": "NvD7jmvOrVc3"
   },
   "outputs": [],
   "source": [
    "def createRandomIndividuals (numberOfIndividuals, low=-4.5, high=4.5):\n",
    "    Xs = np.random.uniform (low=low, high = high, size = numberOfIndividuals)\n",
    "    Ys = np.random.uniform (low=low, high = high, size = numberOfIndividuals)\n",
    "    return Xs, Ys"
   ]
  },
  {
   "cell_type": "code",
   "execution_count": 4,
   "metadata": {
    "colab": {},
    "colab_type": "code",
    "id": "kULibDr5r9w7"
   },
   "outputs": [],
   "source": [
    "def elitismSelection (Xs, Ys, numberToBeChosen):\n",
    "    scores  = bealeFunction (Xs, Ys)\n",
    "    indices = np.argsort (scores)\n",
    "    Xs      = Xs[indices][:numberToBeChosen]\n",
    "    Ys      = Ys[indices][:numberToBeChosen]\n",
    "    return Xs, Ys"
   ]
  },
  {
   "cell_type": "code",
   "execution_count": 5,
   "metadata": {
    "colab": {},
    "colab_type": "code",
    "id": "alhklDgbxMs7"
   },
   "outputs": [],
   "source": [
    "def rouletteWheel (Xs, Ys, numberToBeChosen, replace=True):\n",
    "    fitness       = 1/(bealeFunction (Xs, Ys)+0.1) # So we don't divide by 0\n",
    "\n",
    "    totalFitness  = np.sum(fitness)\n",
    "    probabilities = fitness/totalFitness\n",
    "\n",
    "    chosenIndices = np.random.choice(range(len(fitness)), size=numberToBeChosen, replace=replace, p=probabilities)\n",
    "    return Xs[chosenIndices], Ys[chosenIndices]"
   ]
  },
  {
   "cell_type": "code",
   "execution_count": 6,
   "metadata": {
    "colab": {},
    "colab_type": "code",
    "id": "vV2SbMfNyzyf"
   },
   "outputs": [],
   "source": [
    "def tournament (Xs, Ys, numberToBeChosen, individualsPerTournament=4, replace=False):\n",
    "    fitness = 1/(bealeFunction (Xs, Ys)+0.1) # So we don't divide by 0\n",
    "    chosenIndices=[]\n",
    "\n",
    "    for i in range (numberToBeChosen):\n",
    "        competingIndices = np.random.choice(range(len(fitness)), replace=replace, size=individualsPerTournament)\n",
    "        chosenIndices.append(max(competingIndices, key = lambda x: fitness[x]))\n",
    "\n",
    "    return Xs[chosenIndices], Ys[chosenIndices]"
   ]
  },
  {
   "cell_type": "code",
   "execution_count": 7,
   "metadata": {},
   "outputs": [],
   "source": [
    "def createPairs (numberOfSurvivors, numberOfPairs, replace=True): # It returns a list of indices that can be splitted every 2 for forming pairs\n",
    "    pairs = []\n",
    "    chosenIndices = np.random.choice (range(numberOfSurvivors), size=(numberOfPairs*2), replace = replace)\n",
    "    return chosenIndices"
   ]
  },
  {
   "cell_type": "code",
   "execution_count": 8,
   "metadata": {
    "colab": {},
    "colab_type": "code",
    "id": "c36el2OS3FdK"
   },
   "outputs": [],
   "source": [
    "def SBX (parameters1, parameters2, eta=100): # Simulated Binary Crossover. The bigger is eta, the more close the children are to parents\n",
    "    r             = np.random.random(size=len(parameters1))\n",
    "    gamma         = np.empty(len(parameters1))\n",
    "    gamma[r<=0.5] = (2*r[r<=0.5])**(1/(eta+1))\n",
    "    gamma[r>0.5 ] = (1/(2*(1-r[r>0.5])))**(1/(eta+1))\n",
    "    child1        = 0.5 * ((1+gamma)*parameters1 + (1-gamma)*parameters2)\n",
    "    child2        = 0.5 * ((1-gamma)*parameters1 + (1+gamma)*parameters2)\n",
    "    return child1, child2"
   ]
  },
  {
   "cell_type": "code",
   "execution_count": 9,
   "metadata": {
    "colab": {},
    "colab_type": "code",
    "id": "7q6ujxFiGTkD"
   },
   "outputs": [],
   "source": [
    "def SPBX (parameters1, parameters2): # Single Point Binary Crossover.\n",
    "    crossoverPoint = np.random.randint(1, len(parameters1)) # We want at least length 1 at either side of the crossover\n",
    "    child1         = np.append(parameters1[:crossoverPoint], parameters2[crossoverPoint:])\n",
    "    child2         = np.append(parameters2[:crossoverPoint], parameters1[crossoverPoint:])\n",
    "    return child1, child2"
   ]
  },
  {
   "cell_type": "code",
   "execution_count": 10,
   "metadata": {
    "colab": {},
    "colab_type": "code",
    "id": "snagO8f4qORR"
   },
   "outputs": [],
   "source": [
    "def applyGaussianMutation (parameters, mutation_rate=0.05, mu=0, sigma=1): # Pass it a numpy array of floats! (mu and sigma can be arrays too)\n",
    "    mutationOrNot              = (np.random.random (size=len(parameters))) < mutation_rate\n",
    "    mutationValues             = np.random.normal(loc=mu, scale = sigma, size = len(parameters))\n",
    "    parameters[mutationOrNot] += mutationValues[mutationOrNot]\n",
    "    return parameters"
   ]
  },
  {
   "cell_type": "code",
   "execution_count": 11,
   "metadata": {
    "colab": {},
    "colab_type": "code",
    "id": "gTNfGsopviKQ"
   },
   "outputs": [],
   "source": [
    "def applyUniformMutation (parameters, mutation_rate=0.05, low=0, high = 1): # Pass it a numpy array of floats! (low and high can be arrays too)\n",
    "    mutationOrNot              = (np.random.random (size=len(parameters))) < mutation_rate\n",
    "    mutationValues             = np.random.uniform (low = low, high = high, size = len(parameters))\n",
    "    parameters[mutationOrNot] += mutationValues[mutationOrNot]\n",
    "    return parameters"
   ]
  },
  {
   "cell_type": "code",
   "execution_count": 12,
   "metadata": {
    "colab": {},
    "colab_type": "code",
    "id": "7UTQhIzIvksX"
   },
   "outputs": [],
   "source": [
    "def applyUniformWRTBestIndividualMutation(parameters, bestIndividualParameters, mutation_rate=0.05): # Pass it a numpy array of floats!\n",
    "    # In this case low will always be 0 and high will always be 1. We are measuring how much the parameters will be moved towards those of the best individual\n",
    "    mutationOrNot              = (np.random.random (size=len(parameters))) < mutation_rate\n",
    "    mutationPercentage         = np.random.uniform (size = len(parameters))\n",
    "    difference                 = parameters - bestIndividualParameters\n",
    "    parameters[mutationOrNot] -= difference[mutationOrNot] * mutationPercentage[mutationOrNot]\n",
    "    return parameters"
   ]
  },
  {
   "cell_type": "code",
   "execution_count": 15,
   "metadata": {
    "colab": {},
    "colab_type": "code",
    "id": "nQ6aEU3iNeQu"
   },
   "outputs": [
    {
     "name": "stdout",
     "output_type": "stream",
     "text": [
      "The best individual is X:3.0101, Y:0.5024 with a function value of 0.0000\n",
      "The best individual is X:3.0142, Y:0.5040 with a function value of 0.0000\n",
      "The best individual is X:3.0067, Y:0.5015 with a function value of 0.0000\n",
      "The best individual is X:3.0019, Y:0.5009 with a function value of 0.0000\n",
      "The best individual is X:3.1048, Y:0.5237 with a function value of 0.0016\n",
      "The best individual is X:3.0053, Y:0.5012 with a function value of 0.0000\n",
      "The best individual is X:3.0069, Y:0.5006 with a function value of 0.0000\n",
      "The best individual is X:2.9998, Y:0.4995 with a function value of 0.0000\n",
      "The best individual is X:3.0401, Y:0.5120 with a function value of 0.0004\n",
      "The best individual is X:3.0489, Y:0.5143 with a function value of 0.0005\n",
      "The best individual is X:3.1153, Y:0.5293 with a function value of 0.0020\n",
      "The best individual is X:3.1914, Y:0.5424 with a function value of 0.0048\n",
      "The best individual is X:3.0947, Y:0.5195 with a function value of 0.0015\n",
      "The best individual is X:2.9677, Y:0.4915 with a function value of 0.0002\n",
      "The best individual is X:2.9994, Y:0.4995 with a function value of 0.0000\n",
      "The best individual is X:2.9938, Y:0.4983 with a function value of 0.0000\n",
      "The best individual is X:2.9670, Y:0.4820 with a function value of 0.0022\n",
      "The best individual is X:2.9980, Y:0.5000 with a function value of 0.0000\n",
      "The best individual is X:3.0092, Y:0.5006 with a function value of 0.0001\n",
      "The best individual is X:2.9940, Y:0.4983 with a function value of 0.0000\n"
     ]
    }
   ],
   "source": [
    "# The following variables mean that each generation has 100 individuals. 20 fittest individuals are selected to have children\n",
    "# In each generation, 80 children will be created from crossover plus mutation, 10 parents will remain and 10 new individuals will be created randonmly\n",
    "# 20 trials will be made to see if the results are consistent.\n",
    "\n",
    "numberOfTrials = 20\n",
    "\n",
    "numberOfGenerations = 500\n",
    "indivPerGen         = 100\n",
    "fittestNumber       = 20\n",
    "\n",
    "childrenFromParents = 80\n",
    "parentsThatRemain   = 10\n",
    "numberNewIndividuals      = 10\n",
    "\n",
    "mu = 0\n",
    "sigma = 0.1\n",
    "\n",
    "for _ in range (numberOfTrials):\n",
    "    \n",
    "    primitiveGeneration = np.stack(createRandomIndividuals (numberOfIndividuals=indivPerGen, low=-4.5, high=4.5))\n",
    "    # Shape (2, indivPerGen). Contains Xs and Ys\n",
    "\n",
    "    pastGeneration   = np.copy(primitiveGeneration)\n",
    "    \n",
    "    for i in range (numberOfGenerations):\n",
    "        \n",
    "        # Choose one selection type:\n",
    "        \n",
    "        #survivors    = np.stack(rouletteWheel (pastGeneration[0], pastGeneration[1], numberToBeChosen=fittestNumber, replace=True))\n",
    "        #survivors    = np.stack(tournament (pastGeneration[0], pastGeneration[1], numberToBeChosen=fittestNumber, individualsPerTournament=4, replace=False))\n",
    "        survivors    = np.stack(elitismSelection (pastGeneration[0], pastGeneration[1], numberToBeChosen=fittestNumber))\n",
    "        # Shape (2, fittestNumber). Contains Xs and Ys\n",
    "\n",
    "        pairs        = createPairs (numberOfSurvivors=fittestNumber, numberOfPairs = childrenFromParents//2, replace=True)\n",
    "        # Shape (childrenFromParents,). Contains indices for survivors Array ready to be splitted every two.\n",
    "\n",
    "        newChildren  = []\n",
    "        \n",
    "        for i in range (childrenFromParents//2):\n",
    "            \n",
    "            parents  = survivors[:,pairs[2*i:2*(i+1)]]\n",
    "            # Shape (2, numberOfParameters =2)\n",
    "            \n",
    "            child1, child2 = SBX (parents[0], parents[1]) \n",
    "            \n",
    "            # Choose one mutation type:\n",
    "            \n",
    "            #child1, child2 = applyUniformMutation (child1, low=-2.5*sigma, high = 2.5*sigma), applyUniformMutation (child2, low =-2.5*sigma, high = 2.5*sigma)\n",
    "            child1, child2 = applyGaussianMutation (child1, mu=mu, sigma=sigma),              applyGaussianMutation (child2, mu=mu, sigma=sigma)\n",
    "            #child1, child2 = applyUniformWRTBestIndividualMutation(child1,survivors[:,1]),    applyUniformWRTBestIndividualMutation(child2,survivors[:,1])\n",
    "            \n",
    "            newChildren.append(child1)\n",
    "            newChildren.append(child2)\n",
    "            \n",
    "        newChildren    = np.swapaxes(newChildren, axis1=1, axis2=0)\n",
    "        # Shape (2, ChildrenFromParents). Contains Xs and Ys\n",
    "\n",
    "        newIndividuals = np.stack(createRandomIndividuals (numberNewIndividuals, low=-4.5, high=4.5))\n",
    "        # Shape (2, numberNewIndividuals)\n",
    "\n",
    "        newGeneration  = np.concatenate ((survivors[:,:parentsThatRemain],newChildren, newIndividuals), axis = 1)\n",
    "        # Shape (2, indivPerGen)\n",
    "\n",
    "        pastGeneration = np.copy(newGeneration)\n",
    "\n",
    "    bestIndividual     = np.stack(elitismSelection (newGeneration[0], newGeneration[1], numberToBeChosen=1))\n",
    "    print (\"The best individual is X:%.4f, Y:%.4f with a function value of %.4f\" % (bestIndividual[0], bestIndividual[1],bealeFunction(bestIndividual[0], bestIndividual[1])))"
   ]
  }
 ],
 "metadata": {
  "colab": {
   "collapsed_sections": [],
   "name": "GeneticFunction.ipynb",
   "provenance": []
  },
  "kernelspec": {
   "display_name": "Python 3",
   "language": "python",
   "name": "python3"
  },
  "language_info": {
   "codemirror_mode": {
    "name": "ipython",
    "version": 3
   },
   "file_extension": ".py",
   "mimetype": "text/x-python",
   "name": "python",
   "nbconvert_exporter": "python",
   "pygments_lexer": "ipython3",
   "version": "3.7.6"
  }
 },
 "nbformat": 4,
 "nbformat_minor": 1
}
