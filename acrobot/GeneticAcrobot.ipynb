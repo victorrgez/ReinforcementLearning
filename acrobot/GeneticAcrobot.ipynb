{
 "cells": [
  {
   "cell_type": "markdown",
   "metadata": {},
   "source": [
    "# Acrobot environment (Genetic Algorithm)\n",
    "## Environment is solved when getting a reward of at least -100 for 100 consecutive trials"
   ]
  },
  {
   "cell_type": "code",
   "execution_count": 1,
   "metadata": {
    "colab": {},
    "colab_type": "code",
    "id": "GaCW4Zqerspc"
   },
   "outputs": [],
   "source": [
    "# Imports the libraries:\n",
    "import numpy as np\n",
    "import matplotlib.pyplot as plt\n",
    "import matplotlib as mpl\n",
    "import tensorflow as tf\n",
    "from tensorflow import keras\n",
    "import random\n",
    "import gym\n"
   ]
  },
  {
   "cell_type": "code",
   "execution_count": 2,
   "metadata": {
    "colab": {},
    "colab_type": "code",
    "id": "NvD7jmvOrVc3"
   },
   "outputs": [],
   "source": [
    "def createRandomIndividuals (numberOfIndividuals, numberOfParameters, low=-1, high=1):\n",
    "    parameters = np.random.uniform (low=low, high = high, size = (numberOfParameters, numberOfIndividuals))\n",
    "    return parameters"
   ]
  },
  {
   "cell_type": "code",
   "execution_count": 3,
   "metadata": {
    "colab": {},
    "colab_type": "code",
    "id": "kULibDr5r9w7"
   },
   "outputs": [],
   "source": [
    "def elitismSelection (parameters, numberToBeChosen, shapes, paramsPerShape):\n",
    "    scores  = [getAcrobotFitness(parameters[:,i], shapes, paramsPerShape) for i in range(parameters.shape[1])]\n",
    "    indices = np.argsort (scores)[::-1] # Really important for descending order!\n",
    "    parameters      = parameters[:,indices[:numberToBeChosen]]\n",
    "    print (\"Best individual reward: %d\" % scores[indices[0]])\n",
    "    return parameters"
   ]
  },
  {
   "cell_type": "code",
   "execution_count": 4,
   "metadata": {},
   "outputs": [],
   "source": [
    "def createPairs (numberOfSurvivors, numberOfPairs, replace=True): # It returns a list of indices that can be splitted every 2 for forming pairs\n",
    "    pairs = []\n",
    "    chosenIndices = np.random.choice (range(numberOfSurvivors), size=(numberOfPairs*2), replace = replace)\n",
    "    return chosenIndices"
   ]
  },
  {
   "cell_type": "code",
   "execution_count": 5,
   "metadata": {
    "colab": {},
    "colab_type": "code",
    "id": "c36el2OS3FdK"
   },
   "outputs": [],
   "source": [
    "def SBX (parameters1, parameters2, eta=100): # Simulated Binary Crossover. The bigger is eta, the more close the children are to parents\n",
    "\n",
    "    r             = np.random.random(size=len(parameters1))\n",
    "    gamma         = np.empty(len(parameters1))\n",
    "    gamma[r<=0.5] = (2*r[r<=0.5])**(1/(eta+1))\n",
    "    gamma[r>0.5 ] = (1/(2*(1-r[r>0.5])))**(1/(eta+1))\n",
    "    child1        = 0.5 * ((1+gamma)*parameters1 + (1-gamma)*parameters2)\n",
    "    child2        = 0.5 * ((1-gamma)*parameters1 + (1+gamma)*parameters2)\n",
    "    return child1, child2"
   ]
  },
  {
   "cell_type": "code",
   "execution_count": 6,
   "metadata": {
    "colab": {},
    "colab_type": "code",
    "id": "snagO8f4qORR"
   },
   "outputs": [],
   "source": [
    "def applyGaussianMutation (parameters, mutation_rate=0.05, mu=0, sigma=1): # Pass it a numpy array of floats! (mu and sigma can be arrays too)\n",
    "    mutationOrNot              = (np.random.random (size=len(parameters))) < mutation_rate\n",
    "    mutationValues             = np.random.normal(loc=mu, scale = sigma, size = len(parameters))\n",
    "    parameters[mutationOrNot] += mutationValues[mutationOrNot]\n",
    "    return parameters"
   ]
  },
  {
   "cell_type": "code",
   "execution_count": 7,
   "metadata": {},
   "outputs": [],
   "source": [
    "stateInput = keras.Input(shape = (6))\n",
    "\n",
    "dense1 = keras.layers.Dense(units = 64, activation = \"relu\") (stateInput)\n",
    "dense2 = keras.layers.Dense(units = 64, activation = \"relu\") (dense1)\n",
    "dense3 = keras.layers.Dense(units = 64, activation = \"relu\") (dense2)\n",
    "\n",
    "outputLayer = keras.layers.Dense (units = 3) (dense3)\n",
    "\n",
    "model = keras.Model (inputs = stateInput, outputs = outputLayer)\n",
    "model.compile(optimizer=keras.optimizers.Adam(lr=0.001),loss =\"mse\")"
   ]
  },
  {
   "cell_type": "code",
   "execution_count": 8,
   "metadata": {},
   "outputs": [],
   "source": [
    "def getLengthOfWeights (model):\n",
    "    setsOfWeights = np.array(model.get_weights())\n",
    "    totalWeights = 0\n",
    "    shapes = []\n",
    "    paramsPerShape = []\n",
    "    for i in setsOfWeights:\n",
    "        shapes.append(i.shape)\n",
    "        i = np.reshape (i, (-1))\n",
    "        totalWeights += i.shape[0]\n",
    "        paramsPerShape.append(i.shape[0])\n",
    "    return totalWeights, shapes, paramsPerShape"
   ]
  },
  {
   "cell_type": "code",
   "execution_count": 9,
   "metadata": {},
   "outputs": [],
   "source": [
    "def setModelWeights(parameters, shapes, paramsPerShape):\n",
    "    weights = []\n",
    "    paramsUsedSoFar = 0\n",
    "    for index, shape in enumerate (shapes):\n",
    "        paramsInThisLayer = paramsPerShape[index]\n",
    "        params = np.reshape (parameters[paramsUsedSoFar:paramsUsedSoFar+paramsInThisLayer], shape)\n",
    "        weights.append(params)\n",
    "        paramsUsedSoFar += paramsInThisLayer\n",
    "    model.set_weights(weights)"
   ]
  },
  {
   "cell_type": "code",
   "execution_count": 10,
   "metadata": {},
   "outputs": [],
   "source": [
    "def getAcrobotFitness (parameters, shapes, paramsPerShape):\n",
    "    \n",
    "    setModelWeights (parameters, shapes, paramsPerShape)\n",
    "\n",
    "    env = gym.make('Acrobot-v1')\n",
    "\n",
    "    done = False\n",
    "    acrobotReward = 0\n",
    "    prevObs = np.expand_dims(env.reset(),axis=0)\n",
    "\n",
    "    for step in range(502):\n",
    "        if (done):\n",
    "            break  \n",
    "        env.render()\n",
    "        action = np.argmax(model.predict(prevObs))\n",
    "\n",
    "        state, reward, done,_ = env.step(action)\n",
    "     \n",
    "        prevObs = np.expand_dims(state,axis=0)\n",
    "       \n",
    "        acrobotReward += reward\n",
    "    \n",
    "    env.close()\n",
    "    return acrobotReward"
   ]
  },
  {
   "cell_type": "code",
   "execution_count": 11,
   "metadata": {
    "colab": {},
    "colab_type": "code",
    "id": "nQ6aEU3iNeQu"
   },
   "outputs": [
    {
     "name": "stdout",
     "output_type": "stream",
     "text": [
      "Generation 1 starting\n",
      "Best individual reward: -122\n",
      "Generation 2 starting\n",
      "Best individual reward: -119\n",
      "Generation 3 starting\n",
      "Best individual reward: -90\n",
      "Generation 4 starting\n",
      "Best individual reward: -89\n",
      "Generation 5 starting\n",
      "Best individual reward: -79\n",
      "Generation 6 starting\n",
      "Best individual reward: -72\n",
      "Generation 7 starting\n",
      "Best individual reward: -71\n",
      "Generation 8 starting\n",
      "Best individual reward: -71\n",
      "Generation 9 starting\n",
      "Best individual reward: -63\n",
      "Generation 10 starting\n",
      "Best individual reward: -65\n",
      "Generation 11 starting\n",
      "Best individual reward: -64\n",
      "Generation 12 starting\n",
      "Best individual reward: -63\n",
      "Generation 13 starting\n",
      "Best individual reward: -63\n",
      "Generation 14 starting\n",
      "Best individual reward: -63\n",
      "Generation 15 starting\n",
      "Best individual reward: -63\n"
     ]
    },
    {
     "data": {
      "text/plain": [
       "-64.0"
      ]
     },
     "execution_count": 11,
     "metadata": {},
     "output_type": "execute_result"
    }
   ],
   "source": [
    "numberOfGenerations = 15\n",
    "indivPerGen         = 30\n",
    "fittestNumber       = 10\n",
    "\n",
    "childrenFromParents = 20\n",
    "parentsThatRemain   = 5\n",
    "numberNewIndividuals= 5\n",
    "\n",
    "mu = 0\n",
    "sigma = 0.2\n",
    "\n",
    "\n",
    "totalWeights, shapes, paramsPerShape = getLengthOfWeights (model)\n",
    "\n",
    "primitiveGeneration = createRandomIndividuals (numberOfIndividuals=indivPerGen, numberOfParameters = totalWeights, low=-1, high=1)\n",
    "# Shape (NumberOfWeights, indivPerGen).\n",
    "\n",
    "pastGeneration   = np.copy(primitiveGeneration)\n",
    "\n",
    "for i in range (numberOfGenerations):\n",
    "    print (\"Generation %d starting\" % (i+1))\n",
    "    # Choose one selection type:\n",
    "    mutation_rate = 0.05/np.cbrt(i+1)\n",
    "    survivors    = elitismSelection (pastGeneration, numberToBeChosen=fittestNumber, shapes=shapes, paramsPerShape = paramsPerShape)\n",
    "    # Shape (NumberOfWeights, fittestNumber)\n",
    "\n",
    "    pairs        = createPairs (numberOfSurvivors=fittestNumber, numberOfPairs = childrenFromParents//2, replace=True)\n",
    "    # Shape (childrenFromParents,). Contains indices for survivors Array ready to be splitted every two.\n",
    "\n",
    "    newChildren  = []\n",
    "\n",
    "    for i in range (childrenFromParents//2):\n",
    "\n",
    "        parents  = survivors[:,pairs[2*i:2*(i+1)]]\n",
    "        # Shape (NumberOfWeights, numberOfParents)\n",
    "        \n",
    "        child1, child2 = SBX (parents[:,0], parents[:,1]) \n",
    "    \n",
    "        # Choose one mutation type:\n",
    "\n",
    "        child1, child2 = applyGaussianMutation (child1, mutation_rate=mutation_rate,mu=mu, sigma=sigma), applyGaussianMutation (child2,mutation_rate=mutation_rate, mu=mu, sigma=sigma)\n",
    "\n",
    "\n",
    "        newChildren.append(child1)\n",
    "        newChildren.append(child2)\n",
    "    \n",
    "    newChildren    = np.swapaxes(newChildren, axis1=1, axis2=0)\n",
    "    # Shape (NumberOfWeights, ChildrenFromParents).\n",
    "\n",
    "    newIndividuals = createRandomIndividuals (numberNewIndividuals, numberOfParameters = totalWeights, low=-1, high=1)\n",
    "    # Shape (NumberOfWeights, numberNewIndividuals)\n",
    "    \n",
    "    newGeneration  = np.concatenate ((survivors[:,:parentsThatRemain],newChildren, newIndividuals), axis = 1)\n",
    "    # Shape (NumberOfWeights, indivPerGen)\n",
    "\n",
    "    pastGeneration = np.copy(newGeneration)\n",
    "getAcrobotFitness(survivors[:,0], shapes, paramsPerShape)"
   ]
  },
  {
   "cell_type": "code",
   "execution_count": 12,
   "metadata": {},
   "outputs": [
    {
     "data": {
      "image/png": "[encoded data removed]",
      "text/plain": [
       "<Figure size 432x288 with 1 Axes>"
      ]
     },
     "metadata": {
      "needs_background": "light"
     },
     "output_type": "display_data"
    }
   ],
   "source": [
    "def testEnvironment ():\n",
    "    rewards = []\n",
    "    for episode in range (100):\n",
    "        env = gym.make('Acrobot-v1')\n",
    "\n",
    "        done = False\n",
    "        acrobotReward = 0\n",
    "        prevObs = np.expand_dims(env.reset(),axis=0)\n",
    "\n",
    "        for step in range(502):\n",
    "            if (done):\n",
    "                break  \n",
    "            #env.render()\n",
    "            action = np.argmax(model.predict(prevObs))\n",
    "\n",
    "            state, reward, done,_ = env.step(action)\n",
    "\n",
    "            prevObs = np.expand_dims(state,axis=0)\n",
    "\n",
    "            acrobotReward += reward\n",
    "        env.close()\n",
    "        rewards.append(acrobotReward)\n",
    "        \n",
    "    \n",
    "    plt.plot (list(range(len(rewards))),rewards)\n",
    "    plt.plot (list(range(len(rewards))), [np.average(rewards)]*len(rewards))\n",
    "    plt.title(\"Rewards obtained during Testing\")\n",
    "    plt.xlabel(\"Episode number\")\n",
    "    plt.ylabel(\"Reward obtained\")\n",
    "    plt.legend([\"Rewards\", \"Average: %.2f\" % np.average(rewards)])\n",
    "    plt.show()\n",
    "testEnvironment()"
   ]
  }
 ],
 "metadata": {
  "colab": {
   "collapsed_sections": [],
   "name": "GeneticFunction.ipynb",
   "provenance": []
  },
  "kernelspec": {
   "display_name": "Python 3",
   "language": "python",
   "name": "python3"
  },
  "language_info": {
   "codemirror_mode": {
    "name": "ipython",
    "version": 3
   },
   "file_extension": ".py",
   "mimetype": "text/x-python",
   "name": "python",
   "nbconvert_exporter": "python",
   "pygments_lexer": "ipython3",
   "version": "3.7.6"
  }
 },
 "nbformat": 4,
 "nbformat_minor": 1
}
